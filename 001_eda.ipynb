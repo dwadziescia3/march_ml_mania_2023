{
 "cells": [
  {
   "cell_type": "markdown",
   "id": "cbcba582",
   "metadata": {},
   "source": [
    "### First look into data from Kaggle competition \"Warmup Round - March Machine Learning Mania 2023\"\n",
    "https://www.kaggle.com/competitions/warmup-round-march-machine-learning-mania-2023"
   ]
  },
  {
   "cell_type": "code",
   "execution_count": 2,
   "id": "503ba1a9",
   "metadata": {},
   "outputs": [],
   "source": [
    "import pandas as pd\n",
    "import numpy as np\n",
    "import seaborn as sns\n",
    "import matplotlib.pyplot as plt\n",
    "import glob\n",
    "import xgboost as xgb"
   ]
  },
  {
   "cell_type": "code",
   "execution_count": 11,
   "id": "c2e521ba",
   "metadata": {},
   "outputs": [
    {
     "name": "stdout",
     "output_type": "stream",
     "text": [
      "./data\\Cities.csv\n",
      "./data\\Conferences.csv\n",
      "./data\\MConferenceTourneyGames.csv\n",
      "./data\\MGameCities.csv\n",
      "./data\\MMasseyOrdinals.csv\n",
      "./data\\MNCAATourneyCompactResults.csv\n",
      "./data\\MNCAATourneyDetailedResults.csv\n",
      "./data\\MNCAATourneySeedRoundSlots.csv\n",
      "./data\\MNCAATourneySeeds.csv\n",
      "./data\\MNCAATourneySlots.csv\n",
      "./data\\MRegularSeasonCompactResults.csv\n",
      "./data\\MRegularSeasonDetailedResults.csv\n",
      "./data\\MSeasons.csv\n",
      "./data\\MSecondaryTourneyCompactResults.csv\n",
      "./data\\MSecondaryTourneyTeams.csv\n",
      "./data\\MTeamCoaches.csv\n",
      "./data\\MTeamConferences.csv\n",
      "./data\\MTeams.csv\n",
      "./data\\MTeamSpellings.csv\n",
      "./data\\SampleSubmissionWarmup.csv\n",
      "./data\\WGameCities.csv\n",
      "./data\\WNCAATourneyCompactResults.csv\n",
      "./data\\WNCAATourneyDetailedResults.csv\n",
      "./data\\WNCAATourneySeeds.csv\n",
      "./data\\WNCAATourneySlots.csv\n",
      "./data\\WRegularSeasonCompactResults.csv\n",
      "./data\\WRegularSeasonDetailedResults.csv\n",
      "./data\\WSeasons.csv\n",
      "./data\\WTeamConferences.csv\n",
      "./data\\WTeams.csv\n",
      "./data\\WTeamSpellings.csv\n"
     ]
    }
   ],
   "source": [
    "for name in glob.glob(\"./data/*.csv\"):\n",
    "    print(name)"
   ]
  },
  {
   "cell_type": "code",
   "execution_count": 13,
   "id": "f964b15b",
   "metadata": {},
   "outputs": [],
   "source": [
    "df = pd.read_csv('data/Cities.csv')"
   ]
  },
  {
   "cell_type": "code",
   "execution_count": 15,
   "id": "3e834fa2",
   "metadata": {},
   "outputs": [
    {
     "data": {
      "text/html": [
       "<div>\n",
       "<style scoped>\n",
       "    .dataframe tbody tr th:only-of-type {\n",
       "        vertical-align: middle;\n",
       "    }\n",
       "\n",
       "    .dataframe tbody tr th {\n",
       "        vertical-align: top;\n",
       "    }\n",
       "\n",
       "    .dataframe thead th {\n",
       "        text-align: right;\n",
       "    }\n",
       "</style>\n",
       "<table border=\"1\" class=\"dataframe\">\n",
       "  <thead>\n",
       "    <tr style=\"text-align: right;\">\n",
       "      <th></th>\n",
       "      <th>CityID</th>\n",
       "    </tr>\n",
       "  </thead>\n",
       "  <tbody>\n",
       "    <tr>\n",
       "      <th>count</th>\n",
       "      <td>472.000000</td>\n",
       "    </tr>\n",
       "    <tr>\n",
       "      <th>mean</th>\n",
       "      <td>4240.847458</td>\n",
       "    </tr>\n",
       "    <tr>\n",
       "      <th>std</th>\n",
       "      <td>142.509574</td>\n",
       "    </tr>\n",
       "    <tr>\n",
       "      <th>min</th>\n",
       "      <td>4001.000000</td>\n",
       "    </tr>\n",
       "    <tr>\n",
       "      <th>25%</th>\n",
       "      <td>4118.750000</td>\n",
       "    </tr>\n",
       "    <tr>\n",
       "      <th>50%</th>\n",
       "      <td>4236.500000</td>\n",
       "    </tr>\n",
       "    <tr>\n",
       "      <th>75%</th>\n",
       "      <td>4355.250000</td>\n",
       "    </tr>\n",
       "    <tr>\n",
       "      <th>max</th>\n",
       "      <td>4494.000000</td>\n",
       "    </tr>\n",
       "  </tbody>\n",
       "</table>\n",
       "</div>"
      ],
      "text/plain": [
       "            CityID\n",
       "count   472.000000\n",
       "mean   4240.847458\n",
       "std     142.509574\n",
       "min    4001.000000\n",
       "25%    4118.750000\n",
       "50%    4236.500000\n",
       "75%    4355.250000\n",
       "max    4494.000000"
      ]
     },
     "execution_count": 15,
     "metadata": {},
     "output_type": "execute_result"
    }
   ],
   "source": [
    "df.describe()"
   ]
  },
  {
   "cell_type": "code",
   "execution_count": 16,
   "id": "4767eea1",
   "metadata": {},
   "outputs": [
    {
     "data": {
      "text/html": [
       "<div>\n",
       "<style scoped>\n",
       "    .dataframe tbody tr th:only-of-type {\n",
       "        vertical-align: middle;\n",
       "    }\n",
       "\n",
       "    .dataframe tbody tr th {\n",
       "        vertical-align: top;\n",
       "    }\n",
       "\n",
       "    .dataframe thead th {\n",
       "        text-align: right;\n",
       "    }\n",
       "</style>\n",
       "<table border=\"1\" class=\"dataframe\">\n",
       "  <thead>\n",
       "    <tr style=\"text-align: right;\">\n",
       "      <th></th>\n",
       "      <th>CityID</th>\n",
       "      <th>City</th>\n",
       "      <th>State</th>\n",
       "    </tr>\n",
       "  </thead>\n",
       "  <tbody>\n",
       "    <tr>\n",
       "      <th>0</th>\n",
       "      <td>4001</td>\n",
       "      <td>Abilene</td>\n",
       "      <td>TX</td>\n",
       "    </tr>\n",
       "    <tr>\n",
       "      <th>1</th>\n",
       "      <td>4002</td>\n",
       "      <td>Akron</td>\n",
       "      <td>OH</td>\n",
       "    </tr>\n",
       "    <tr>\n",
       "      <th>2</th>\n",
       "      <td>4003</td>\n",
       "      <td>Albany</td>\n",
       "      <td>NY</td>\n",
       "    </tr>\n",
       "    <tr>\n",
       "      <th>3</th>\n",
       "      <td>4004</td>\n",
       "      <td>Albuquerque</td>\n",
       "      <td>NM</td>\n",
       "    </tr>\n",
       "    <tr>\n",
       "      <th>4</th>\n",
       "      <td>4005</td>\n",
       "      <td>Allentown</td>\n",
       "      <td>PA</td>\n",
       "    </tr>\n",
       "  </tbody>\n",
       "</table>\n",
       "</div>"
      ],
      "text/plain": [
       "   CityID         City State\n",
       "0    4001      Abilene    TX\n",
       "1    4002        Akron    OH\n",
       "2    4003       Albany    NY\n",
       "3    4004  Albuquerque    NM\n",
       "4    4005    Allentown    PA"
      ]
     },
     "execution_count": 16,
     "metadata": {},
     "output_type": "execute_result"
    }
   ],
   "source": [
    "df.head()"
   ]
  }
 ],
 "metadata": {
  "kernelspec": {
   "display_name": "Python 3 (ipykernel)",
   "language": "python",
   "name": "python3"
  },
  "language_info": {
   "codemirror_mode": {
    "name": "ipython",
    "version": 3
   },
   "file_extension": ".py",
   "mimetype": "text/x-python",
   "name": "python",
   "nbconvert_exporter": "python",
   "pygments_lexer": "ipython3",
   "version": "3.9.7"
  }
 },
 "nbformat": 4,
 "nbformat_minor": 5
}
